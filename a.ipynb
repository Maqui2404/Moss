{
 "cells": [
  {
   "cell_type": "code",
   "execution_count": null,
   "id": "e2cacf2f",
   "metadata": {},
   "outputs": [],
   "source": [
    "from functools import reduce\n",
    "lst = [0,2,3,4,5]\n",
    "\n",
    "def f_filt_reduce(lst):\n",
    "    f= lambda x: x%2==0\n",
    "    "
   ]
  },
  {
   "cell_type": "markdown",
   "id": "bf426048",
   "metadata": {},
   "source": [
    "class X:"
   ]
  },
  {
   "cell_type": "code",
   "execution_count": 3,
   "id": "328adbf0",
   "metadata": {},
   "outputs": [],
   "source": [
    "class X:\n",
    "    a=10\n",
    "\n",
    "x1 = X()    \n",
    "x2 = X()"
   ]
  },
  {
   "cell_type": "code",
   "execution_count": null,
   "id": "81dfdefe",
   "metadata": {},
   "outputs": [],
   "source": []
  },
  {
   "cell_type": "code",
   "execution_count": 6,
   "metadata": {},
   "outputs": [
    {
     "data": {
      "text/plain": [
       "10"
      ]
     },
     "execution_count": 6,
     "metadata": {},
     "output_type": "execute_result"
    }
   ],
   "source": [
    "x1.a"
   ]
  },
  {
   "cell_type": "code",
   "execution_count": 7,
   "id": "853bc564",
   "metadata": {},
   "outputs": [],
   "source": [
    "X.a = 20"
   ]
  },
  {
   "cell_type": "code",
   "execution_count": 8,
   "id": "741f42bf",
   "metadata": {},
   "outputs": [
    {
     "data": {
      "text/plain": [
       "20"
      ]
     },
     "execution_count": 8,
     "metadata": {},
     "output_type": "execute_result"
    }
   ],
   "source": [
    "x1.a"
   ]
  },
  {
   "cell_type": "code",
   "execution_count": null,
   "id": "e1b727f0",
   "metadata": {},
   "outputs": [],
   "source": [
    "class Interruptor:\n",
    "    def __init__(self, sincr=None):\n",
    "        self.encendido = False\n",
    "        self.sincr = sincr\n",
    "    def esta_encendido(self):\n",
    "        return self.encendido\n",
    "    \n",
    "    def cambia(self):\n",
    "        self.encendido = not self.encendido\n",
    "        if self.sincr:\n",
    "            self.sincr.cambia()\n",
    "            "
   ]
  },
  {
   "cell_type": "code",
   "execution_count": 11,
   "id": "304336ad",
   "metadata": {},
   "outputs": [],
   "source": [
    "i1 = Interruptor()\n",
    "i2 = Interruptor(sincr = i1)"
   ]
  },
  {
   "cell_type": "code",
   "execution_count": null,
   "id": "b664a5a7",
   "metadata": {},
   "outputs": [
    {
     "data": {
      "text/plain": [
       "False"
      ]
     },
     "execution_count": 12,
     "metadata": {},
     "output_type": "execute_result"
    }
   ],
   "source": [
    "i1.encendido"
   ]
  },
  {
   "cell_type": "code",
   "execution_count": 14,
   "id": "38376954",
   "metadata": {},
   "outputs": [],
   "source": [
    "i1.cambia()"
   ]
  },
  {
   "cell_type": "code",
   "execution_count": 15,
   "id": "d41f47ef",
   "metadata": {},
   "outputs": [
    {
     "data": {
      "text/plain": [
       "True"
      ]
     },
     "execution_count": 15,
     "metadata": {},
     "output_type": "execute_result"
    }
   ],
   "source": [
    "i1.esta_encendido()"
   ]
  },
  {
   "cell_type": "code",
   "execution_count": 16,
   "id": "ebc6a20f",
   "metadata": {},
   "outputs": [
    {
     "data": {
      "text/plain": [
       "False"
      ]
     },
     "execution_count": 16,
     "metadata": {},
     "output_type": "execute_result"
    }
   ],
   "source": [
    "i2.encendido"
   ]
  },
  {
   "cell_type": "code",
   "execution_count": null,
   "id": "34d17bc3",
   "metadata": {},
   "outputs": [],
   "source": []
  },
  {
   "cell_type": "code",
   "execution_count": 22,
   "id": "41b4957c",
   "metadata": {},
   "outputs": [],
   "source": [
    "class A:\n",
    "    def __init__(self):\n",
    "        self.a=\"Hola\"\n",
    "\n",
    "\n",
    "class B(A):\n",
    "    def __init__(self):\n",
    "        super().__init__()\n",
    "        self.b=\"Adios\"\n",
    "    \n",
    "    # def __str__(self):\n",
    "    #     return \"B\"\n",
    "    \n",
    "    # def __repr__(self):\n",
    "    #     return \"B\"\n",
    "    \n",
    "    # def __add__(self, other):\n",
    "    #     return A()"
   ]
  },
  {
   "cell_type": "code",
   "execution_count": 23,
   "id": "c8601e94",
   "metadata": {},
   "outputs": [
    {
     "data": {
      "text/plain": [
       "<__main__.B at 0x16a77ab5cd0>"
      ]
     },
     "execution_count": 23,
     "metadata": {},
     "output_type": "execute_result"
    }
   ],
   "source": [
    "b = B()\n",
    "b"
   ]
  },
  {
   "cell_type": "code",
   "execution_count": 24,
   "id": "ba3e3c84",
   "metadata": {},
   "outputs": [
    {
     "data": {
      "text/plain": [
       "'Hola'"
      ]
     },
     "execution_count": 24,
     "metadata": {},
     "output_type": "execute_result"
    }
   ],
   "source": [
    "b.a"
   ]
  },
  {
   "cell_type": "code",
   "execution_count": null,
   "id": "333e6988",
   "metadata": {},
   "outputs": [
    {
     "data": {
      "text/plain": [
       "[]"
      ]
     },
     "execution_count": 39,
     "metadata": {},
     "output_type": "execute_result"
    }
   ],
   "source": [
    "# Ejercicio:\n",
    "#encuentra una expresión regular que identifique los números enteros de 4 dígitos del texto\n",
    "\n",
    "texto = \"xmasmxasxqdm23mdm422323naxmasmq1231masmxma123455maxsmsam12mxamsm1231e12\"\n",
    "import re\n",
    "re.findall(r'\\b\\d{4}\\b', texto)"
   ]
  },
  {
   "cell_type": "code",
   "execution_count": 41,
   "id": "b7e7c4a5",
   "metadata": {},
   "outputs": [
    {
     "name": "stdout",
     "output_type": "stream",
     "text": [
      "72\n",
      "x\n",
      "2\n",
      "xmasmxas\n",
      "xqdm23md\n",
      "False\n",
      "True\n",
      "False\n"
     ]
    }
   ],
   "source": [
    "print(len(texto))\n",
    "print(texto[0])\n",
    "print(texto[-1])\n",
    "print(texto[:8])\n",
    "print(texto[8:16])\n",
    "print(\"ans\" in texto)\n",
    "print(\"qdm23m\" in texto)\n",
    "print(texto.isalnum())"
   ]
  },
  {
   "cell_type": "code",
   "execution_count": 44,
   "id": "ebc531e4",
   "metadata": {},
   "outputs": [
    {
     "data": {
      "text/plain": [
       "['4223', '1231', '1234', '1231']"
      ]
     },
     "execution_count": 44,
     "metadata": {},
     "output_type": "execute_result"
    }
   ],
   "source": [
    "re.findall(r'\\d{4}', texto)"
   ]
  },
  {
   "cell_type": "code",
   "execution_count": null,
   "id": "c1b9b1d4",
   "metadata": {},
   "outputs": [],
   "source": []
  }
 ],
 "metadata": {
  "kernelspec": {
   "display_name": "base",
   "language": "python",
   "name": "python3"
  },
  "language_info": {
   "codemirror_mode": {
    "name": "ipython",
    "version": 3
   },
   "file_extension": ".py",
   "mimetype": "text/x-python",
   "name": "python",
   "nbconvert_exporter": "python",
   "pygments_lexer": "ipython3",
   "version": "3.8.8"
  }
 },
 "nbformat": 4,
 "nbformat_minor": 5
}
